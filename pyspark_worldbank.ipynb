{
 "cells": [
  {
   "cell_type": "code",
   "execution_count": 2,
   "metadata": {
    "collapsed": true,
    "deletable": true,
    "editable": true
   },
   "outputs": [],
   "source": [
    "from pyspark import SparkContext\n",
    "from pyspark.sql import SparkSession,SQLContext\n",
    "from pyspark.sql.functions import *"
   ]
  },
  {
   "cell_type": "code",
   "execution_count": 3,
   "metadata": {
    "collapsed": false,
    "deletable": true,
    "editable": true
   },
   "outputs": [],
   "source": [
    "sc = SparkContext()\n",
    "\n",
    "#creating a sparkcontext instance"
   ]
  },
  {
   "cell_type": "code",
   "execution_count": 4,
   "metadata": {
    "collapsed": false,
    "deletable": true,
    "editable": true
   },
   "outputs": [],
   "source": [
    "sqlContext = SQLContext(sc)\n",
    "\n",
    "#creating a sqlcontext instance "
   ]
  },
  {
   "cell_type": "code",
   "execution_count": 73,
   "metadata": {
    "collapsed": false,
    "deletable": true,
    "editable": true
   },
   "outputs": [],
   "source": [
    "data = sqlContext.read.json(\"world_bank.json\")\n",
    "\n",
    "#reading world bank data and creating a DataFrame\n",
    "\n"
   ]
  },
  {
   "cell_type": "code",
   "execution_count": 7,
   "metadata": {
    "collapsed": false,
    "deletable": true,
    "editable": true
   },
   "outputs": [
    {
     "name": "stdout",
     "output_type": "stream",
     "text": [
      "root\n",
      " |-- _id: struct (nullable = true)\n",
      " |    |-- $oid: string (nullable = true)\n",
      " |-- approvalfy: string (nullable = true)\n",
      " |-- board_approval_month: string (nullable = true)\n",
      " |-- boardapprovaldate: string (nullable = true)\n",
      " |-- borrower: string (nullable = true)\n",
      " |-- closingdate: string (nullable = true)\n",
      " |-- country_namecode: string (nullable = true)\n",
      " |-- countrycode: string (nullable = true)\n",
      " |-- countryname: string (nullable = true)\n",
      " |-- countryshortname: string (nullable = true)\n",
      " |-- docty: string (nullable = true)\n",
      " |-- envassesmentcategorycode: string (nullable = true)\n",
      " |-- grantamt: long (nullable = true)\n",
      " |-- ibrdcommamt: long (nullable = true)\n",
      " |-- id: string (nullable = true)\n",
      " |-- idacommamt: long (nullable = true)\n",
      " |-- impagency: string (nullable = true)\n",
      " |-- lendinginstr: string (nullable = true)\n",
      " |-- lendinginstrtype: string (nullable = true)\n",
      " |-- lendprojectcost: long (nullable = true)\n",
      " |-- majorsector_percent: array (nullable = true)\n",
      " |    |-- element: struct (containsNull = true)\n",
      " |    |    |-- Name: string (nullable = true)\n",
      " |    |    |-- Percent: long (nullable = true)\n",
      " |-- mjsector_namecode: array (nullable = true)\n",
      " |    |-- element: struct (containsNull = true)\n",
      " |    |    |-- code: string (nullable = true)\n",
      " |    |    |-- name: string (nullable = true)\n",
      " |-- mjtheme: array (nullable = true)\n",
      " |    |-- element: string (containsNull = true)\n",
      " |-- mjtheme_namecode: array (nullable = true)\n",
      " |    |-- element: struct (containsNull = true)\n",
      " |    |    |-- code: string (nullable = true)\n",
      " |    |    |-- name: string (nullable = true)\n",
      " |-- mjthemecode: string (nullable = true)\n",
      " |-- prodline: string (nullable = true)\n",
      " |-- prodlinetext: string (nullable = true)\n",
      " |-- productlinetype: string (nullable = true)\n",
      " |-- project_abstract: struct (nullable = true)\n",
      " |    |-- cdata: string (nullable = true)\n",
      " |-- project_name: string (nullable = true)\n",
      " |-- projectdocs: array (nullable = true)\n",
      " |    |-- element: struct (containsNull = true)\n",
      " |    |    |-- DocDate: string (nullable = true)\n",
      " |    |    |-- DocType: string (nullable = true)\n",
      " |    |    |-- DocTypeDesc: string (nullable = true)\n",
      " |    |    |-- DocURL: string (nullable = true)\n",
      " |    |    |-- EntityID: string (nullable = true)\n",
      " |-- projectfinancialtype: string (nullable = true)\n",
      " |-- projectstatusdisplay: string (nullable = true)\n",
      " |-- regionname: string (nullable = true)\n",
      " |-- sector: array (nullable = true)\n",
      " |    |-- element: struct (containsNull = true)\n",
      " |    |    |-- Name: string (nullable = true)\n",
      " |-- sector1: struct (nullable = true)\n",
      " |    |-- Name: string (nullable = true)\n",
      " |    |-- Percent: long (nullable = true)\n",
      " |-- sector2: struct (nullable = true)\n",
      " |    |-- Name: string (nullable = true)\n",
      " |    |-- Percent: long (nullable = true)\n",
      " |-- sector3: struct (nullable = true)\n",
      " |    |-- Name: string (nullable = true)\n",
      " |    |-- Percent: long (nullable = true)\n",
      " |-- sector4: struct (nullable = true)\n",
      " |    |-- Name: string (nullable = true)\n",
      " |    |-- Percent: long (nullable = true)\n",
      " |-- sector_namecode: array (nullable = true)\n",
      " |    |-- element: struct (containsNull = true)\n",
      " |    |    |-- code: string (nullable = true)\n",
      " |    |    |-- name: string (nullable = true)\n",
      " |-- sectorcode: string (nullable = true)\n",
      " |-- source: string (nullable = true)\n",
      " |-- status: string (nullable = true)\n",
      " |-- supplementprojectflg: string (nullable = true)\n",
      " |-- theme1: struct (nullable = true)\n",
      " |    |-- Name: string (nullable = true)\n",
      " |    |-- Percent: long (nullable = true)\n",
      " |-- theme_namecode: array (nullable = true)\n",
      " |    |-- element: struct (containsNull = true)\n",
      " |    |    |-- code: string (nullable = true)\n",
      " |    |    |-- name: string (nullable = true)\n",
      " |-- themecode: string (nullable = true)\n",
      " |-- totalamt: long (nullable = true)\n",
      " |-- totalcommamt: long (nullable = true)\n",
      " |-- url: string (nullable = true)\n",
      "\n"
     ]
    }
   ],
   "source": [
    "data.printSchema()\n",
    "\n",
    "#exploring the data schema"
   ]
  },
  {
   "cell_type": "code",
   "execution_count": 8,
   "metadata": {
    "collapsed": false,
    "deletable": true,
    "editable": true
   },
   "outputs": [
    {
     "name": "stdout",
     "output_type": "stream",
     "text": [
      "+------+-----+\n",
      "|status|count|\n",
      "+------+-----+\n",
      "|Active|  438|\n",
      "|Closed|   62|\n",
      "+------+-----+\n",
      "\n"
     ]
    }
   ],
   "source": [
    "data.select(data['countryshortname'],data['grantamt'],data['status']).groupBy('status').count().show()\n",
    "\n",
    "#number of active and closed grants"
   ]
  },
  {
   "cell_type": "code",
   "execution_count": 9,
   "metadata": {
    "collapsed": false,
    "deletable": true,
    "editable": true
   },
   "outputs": [
    {
     "name": "stdout",
     "output_type": "stream",
     "text": [
      "+--------------------+---------+------+\n",
      "|    countryshortname| grantamt|status|\n",
      "+--------------------+---------+------+\n",
      "|               China|365000000|Active|\n",
      "|         Afghanistan|100000000|Active|\n",
      "|Congo, Democratic...|100000000|Active|\n",
      "|          Madagascar| 85400000|Active|\n",
      "|             Vietnam| 84600000|Active|\n",
      "|               Sudan| 76500000|Active|\n",
      "|               Ghana| 75500000|Active|\n",
      "|         Afghanistan| 74730000|Active|\n",
      "|             Morocco| 70000000|Active|\n",
      "|           Nicaragua| 51900000|Active|\n",
      "|              Jordan| 50000000|Active|\n",
      "|               Nepal| 46500000|Active|\n",
      "|                Mali| 41700000|Active|\n",
      "|  West Bank and Gaza| 40000000|Closed|\n",
      "|              Zambia| 36000000|Active|\n",
      "|          Bangladesh| 33800000|Active|\n",
      "|           Indonesia| 31700000|Active|\n",
      "|               Nepal| 31000000|Active|\n",
      "|               China| 27280000|Active|\n",
      "|          Kazakhstan| 21760000|Active|\n",
      "+--------------------+---------+------+\n",
      "only showing top 20 rows\n",
      "\n"
     ]
    }
   ],
   "source": [
    "data.select(data['countryshortname'],data['grantamt'],data['status']).orderBy(desc('grantamt')).show()\n",
    "#grant amount by country and their status"
   ]
  },
  {
   "cell_type": "code",
   "execution_count": 10,
   "metadata": {
    "collapsed": false,
    "deletable": true,
    "editable": true
   },
   "outputs": [
    {
     "name": "stdout",
     "output_type": "stream",
     "text": [
      "+--------------------+--------------------+--------------------+---------+------+\n",
      "|            borrower|    countryshortname|          regionname| grantamt|status|\n",
      "+--------------------+--------------------+--------------------+---------+------+\n",
      "|PEOPLE'S REPULIC ...|               China|East Asia and Pac...|365000000|Active|\n",
      "|ISLAMIC REPUBLIC ...|         Afghanistan|          South Asia|100000000|Active|\n",
      "|MINISTERE DE L'ED...|Congo, Democratic...|              Africa|100000000|Active|\n",
      "|MINISTRY OF FINAN...|          Madagascar|              Africa| 85400000|Active|\n",
      "|SOCIALIST REPUBLI...|             Vietnam|East Asia and Pac...| 84600000|Active|\n",
      "| GOVERNMENT OF SUDAN|               Sudan|              Africa| 76500000|Active|\n",
      "|GHANA MINISTRY OF...|               Ghana|              Africa| 75500000|Active|\n",
      "|GOVERNMENT OF AFG...|         Afghanistan|          South Asia| 74730000|Active|\n",
      "|FONDS D'EQUIPMENT...|             Morocco|Middle East and N...| 70000000|Active|\n",
      "|REPUBLIC OF NICAR...|           Nicaragua|Latin America and...| 51900000|Active|\n",
      "|MINISTRY OF PLANN...|              Jordan|Middle East and N...| 50000000|Active|\n",
      "| GOVERNMENT OF NEPAL|               Nepal|          South Asia| 46500000|Active|\n",
      "|MINISTRY OF ECONO...|                Mali|              Africa| 41700000|Active|\n",
      "|PALESTINE LIBERAT...|  West Bank and Gaza|Middle East and N...| 40000000|Closed|\n",
      "| MINISTRY OF FINANCE|              Zambia|              Africa| 36000000|Active|\n",
      "|MINISTRY OF ENVIR...|          Bangladesh|          South Asia| 33800000|Active|\n",
      "|GOVERNMENT OF IND...|           Indonesia|East Asia and Pac...| 31700000|Active|\n",
      "| GOVERNMENT OF NEPAL|               Nepal|          South Asia| 31000000|Active|\n",
      "|PEOPLE'S REPUBLIC...|               China|East Asia and Pac...| 27280000|Active|\n",
      "|REPUBLIC OF KAZAK...|          Kazakhstan|Europe and Centra...| 21760000|Active|\n",
      "+--------------------+--------------------+--------------------+---------+------+\n",
      "only showing top 20 rows\n",
      "\n"
     ]
    }
   ],
   "source": [
    "data.select('borrower','countryshortname','regionname','grantamt','status').orderBy(desc('grantamt')).show()\n",
    "\n",
    "#region wise borrowers and their borrowed amounts"
   ]
  },
  {
   "cell_type": "code",
   "execution_count": 11,
   "metadata": {
    "collapsed": false,
    "deletable": true,
    "editable": true
   },
   "outputs": [
    {
     "name": "stdout",
     "output_type": "stream",
     "text": [
      "+--------------------+-----+\n",
      "|          regionname|count|\n",
      "+--------------------+-----+\n",
      "|          South Asia|   65|\n",
      "|Middle East and N...|   54|\n",
      "|              Africa|  152|\n",
      "|East Asia and Pac...|  100|\n",
      "|               Other|    2|\n",
      "|Europe and Centra...|   74|\n",
      "|Latin America and...|   53|\n",
      "+--------------------+-----+\n",
      "\n"
     ]
    }
   ],
   "source": [
    "data.select('borrower','countryshortname','regionname','grantamt','status').groupBy('regionname').count().show()\n",
    "\n",
    "#number of borrowers by region"
   ]
  },
  {
   "cell_type": "code",
   "execution_count": 12,
   "metadata": {
    "collapsed": false,
    "deletable": true,
    "editable": true
   },
   "outputs": [
    {
     "name": "stdout",
     "output_type": "stream",
     "text": [
      "+--------------------+------------------+\n",
      "|          regionname|     avg(grantamt)|\n",
      "+--------------------+------------------+\n",
      "|          South Asia| 6092461.538461538|\n",
      "|Middle East and N...| 5311296.296296297|\n",
      "|              Africa|4037039.4736842103|\n",
      "|East Asia and Pac...|         7000400.0|\n",
      "|               Other|         3060000.0|\n",
      "|Europe and Centra...|1695540.5405405406|\n",
      "|Latin America and...|1662641.5094339622|\n",
      "+--------------------+------------------+\n",
      "\n"
     ]
    }
   ],
   "source": [
    "data.select('borrower','countryshortname','regionname','grantamt','status').groupBy('regionname').avg('grantamt').show()\n",
    "\n",
    "#each region's avg grant amt"
   ]
  },
  {
   "cell_type": "code",
   "execution_count": 19,
   "metadata": {
    "collapsed": false,
    "deletable": true,
    "editable": true
   },
   "outputs": [],
   "source": [
    "bank_rdd = data.select('boardapprovaldate','borrower','project_name','closingdate','projectstatusdisplay','totalamt','url','countrycode','countryshortname','regionname','grantamt','status').rdd\n",
    "\n",
    "#creating a rdd from the dataframe"
   ]
  },
  {
   "cell_type": "code",
   "execution_count": 21,
   "metadata": {
    "collapsed": false,
    "deletable": true,
    "editable": true
   },
   "outputs": [
    {
     "data": {
      "text/plain": [
       "[Row(boardapprovaldate=u'2013-11-12T00:00:00Z', borrower=u'FEDERAL DEMOCRATIC REPUBLIC OF ETHIOPIA', project_name=u'Ethiopia General Education Quality Improvement Project II', closingdate=u'2018-07-07T00:00:00Z', projectstatusdisplay=u'Active', totalamt=130000000, url=u'http://www.worldbank.org/projects/P129828/ethiopia-general-education-quality-improvement-project-ii?lang=en', countrycode=u'ET', countryshortname=u'Ethiopia', regionname=u'Africa', grantamt=0, status=u'Active'),\n",
       " Row(boardapprovaldate=u'2013-02-28T00:00:00Z', borrower=u'FEDERAL DEMOCRATIC REP. OF ETHIOPIA', project_name=u'Ethiopia Health MDG Support Operation', closingdate=u'2018-06-30T00:00:00Z', projectstatusdisplay=u'Active', totalamt=100000000, url=u'http://www.worldbank.org/projects/P123531/ethiopia-health-mdg-support-operation?lang=en', countrycode=u'ET', countryshortname=u'Ethiopia', regionname=u'Africa', grantamt=0, status=u'Active'),\n",
       " Row(boardapprovaldate=u'2012-09-25T00:00:00Z', borrower=u'FEDERAL DEMOCRATIC REPUBLIC OF ETHIOPIA', project_name=u'Ethiopia-Transport Sector Project in Support of RSDP4', closingdate=u'2019-04-30T00:00:00Z', projectstatusdisplay=u'Active', totalamt=415000000, url=u'http://www.worldbank.org/projects/P117731/ethiopia-transport-sector-project-support-rsdp4?lang=en', countrycode=u'ET', countryshortname=u'Ethiopia', regionname=u'Africa', grantamt=0, status=u'Active'),\n",
       " Row(boardapprovaldate=u'2012-09-25T00:00:00Z', borrower=u'FED DEM REPUBLIC OF ETHIOPIA', project_name=u'Ethiopia Promoting Basic Services Program Phase III Project', closingdate=u'2018-01-07T00:00:00Z', projectstatusdisplay=u'Active', totalamt=600000000, url=u'http://www.worldbank.org/projects/P128891/ethiopia-protection-basic-services-program-phase-iii-project?lang=en', countrycode=u'ET', countryshortname=u'Ethiopia', regionname=u'Africa', grantamt=0, status=u'Active')]"
      ]
     },
     "execution_count": 21,
     "metadata": {},
     "output_type": "execute_result"
    }
   ],
   "source": [
    "bank_rdd.filter(lambda x: 'ET' in x[7]).collect()\n",
    "\n",
    "#filter all rows that corresponds to Ethiopia"
   ]
  },
  {
   "cell_type": "code",
   "execution_count": 75,
   "metadata": {
    "collapsed": false,
    "deletable": true,
    "editable": true
   },
   "outputs": [],
   "source": [
    "pairs = bank_rdd.map(lambda x: (x[8],x[10]))\n",
    "pairs1 = bank_rdd.map(lambda x: (x[0],x[10]))\n",
    "\n",
    "\n",
    "#creating pipelinedRDD transformations to select country, grant_amt and boardapprovaldata,grant_amts respectively"
   ]
  },
  {
   "cell_type": "code",
   "execution_count": 76,
   "metadata": {
    "collapsed": false,
    "deletable": true,
    "editable": true
   },
   "outputs": [],
   "source": [
    "import pandas as pd\n",
    "from operator import add\n",
    "\n",
    "\n",
    "df = pd.DataFrame(pairs.reduceByKey(add).collect())\n",
    "\n",
    "#collecting all the countries by reducing on the countryshortname key while adding their grant amounts\n",
    "\n",
    "df.columns = ['country','grant_amt']\n",
    "\n",
    "#give names to the columns"
   ]
  },
  {
   "cell_type": "code",
   "execution_count": 38,
   "metadata": {
    "collapsed": false,
    "deletable": true,
    "editable": true
   },
   "outputs": [],
   "source": [
    "sorted_data = df.sort_values('grant_amt',ascending=False)\n",
    "#sort the dataframe on grant_amt in descending order"
   ]
  },
  {
   "cell_type": "code",
   "execution_count": 46,
   "metadata": {
    "collapsed": false,
    "deletable": true,
    "editable": true
   },
   "outputs": [
    {
     "data": {
      "text/html": [
       "\n",
       "    <div class=\"bk-root\">\n",
       "        <a href=\"http://bokeh.pydata.org\" target=\"_blank\" class=\"bk-logo bk-logo-small bk-logo-notebook\"></a>\n",
       "        <span id=\"14ed304e-7940-405c-8e25-af7116652922\">Loading BokehJS ...</span>\n",
       "    </div>"
      ]
     },
     "metadata": {},
     "output_type": "display_data"
    },
    {
     "data": {
      "application/javascript": [
       "\n",
       "(function(global) {\n",
       "  function now() {\n",
       "    return new Date();\n",
       "  }\n",
       "\n",
       "  var force = true;\n",
       "\n",
       "  if (typeof (window._bokeh_onload_callbacks) === \"undefined\" || force === true) {\n",
       "    window._bokeh_onload_callbacks = [];\n",
       "    window._bokeh_is_loading = undefined;\n",
       "  }\n",
       "\n",
       "\n",
       "  \n",
       "  if (typeof (window._bokeh_timeout) === \"undefined\" || force === true) {\n",
       "    window._bokeh_timeout = Date.now() + 5000;\n",
       "    window._bokeh_failed_load = false;\n",
       "  }\n",
       "\n",
       "  var NB_LOAD_WARNING = {'data': {'text/html':\n",
       "     \"<div style='background-color: #fdd'>\\n\"+\n",
       "     \"<p>\\n\"+\n",
       "     \"BokehJS does not appear to have successfully loaded. If loading BokehJS from CDN, this \\n\"+\n",
       "     \"may be due to a slow or bad network connection. Possible fixes:\\n\"+\n",
       "     \"</p>\\n\"+\n",
       "     \"<ul>\\n\"+\n",
       "     \"<li>re-rerun `output_notebook()` to attempt to load from CDN again, or</li>\\n\"+\n",
       "     \"<li>use INLINE resources instead, as so:</li>\\n\"+\n",
       "     \"</ul>\\n\"+\n",
       "     \"<code>\\n\"+\n",
       "     \"from bokeh.resources import INLINE\\n\"+\n",
       "     \"output_notebook(resources=INLINE)\\n\"+\n",
       "     \"</code>\\n\"+\n",
       "     \"</div>\"}};\n",
       "\n",
       "  function display_loaded() {\n",
       "    if (window.Bokeh !== undefined) {\n",
       "      document.getElementById(\"14ed304e-7940-405c-8e25-af7116652922\").textContent = \"BokehJS successfully loaded.\";\n",
       "    } else if (Date.now() < window._bokeh_timeout) {\n",
       "      setTimeout(display_loaded, 100)\n",
       "    }\n",
       "  }\n",
       "\n",
       "  function run_callbacks() {\n",
       "    window._bokeh_onload_callbacks.forEach(function(callback) { callback() });\n",
       "    delete window._bokeh_onload_callbacks\n",
       "    console.info(\"Bokeh: all callbacks have finished\");\n",
       "  }\n",
       "\n",
       "  function load_libs(js_urls, callback) {\n",
       "    window._bokeh_onload_callbacks.push(callback);\n",
       "    if (window._bokeh_is_loading > 0) {\n",
       "      console.log(\"Bokeh: BokehJS is being loaded, scheduling callback at\", now());\n",
       "      return null;\n",
       "    }\n",
       "    if (js_urls == null || js_urls.length === 0) {\n",
       "      run_callbacks();\n",
       "      return null;\n",
       "    }\n",
       "    console.log(\"Bokeh: BokehJS not loaded, scheduling load and callback at\", now());\n",
       "    window._bokeh_is_loading = js_urls.length;\n",
       "    for (var i = 0; i < js_urls.length; i++) {\n",
       "      var url = js_urls[i];\n",
       "      var s = document.createElement('script');\n",
       "      s.src = url;\n",
       "      s.async = false;\n",
       "      s.onreadystatechange = s.onload = function() {\n",
       "        window._bokeh_is_loading--;\n",
       "        if (window._bokeh_is_loading === 0) {\n",
       "          console.log(\"Bokeh: all BokehJS libraries loaded\");\n",
       "          run_callbacks()\n",
       "        }\n",
       "      };\n",
       "      s.onerror = function() {\n",
       "        console.warn(\"failed to load library \" + url);\n",
       "      };\n",
       "      console.log(\"Bokeh: injecting script tag for BokehJS library: \", url);\n",
       "      document.getElementsByTagName(\"head\")[0].appendChild(s);\n",
       "    }\n",
       "  };var element = document.getElementById(\"14ed304e-7940-405c-8e25-af7116652922\");\n",
       "  if (element == null) {\n",
       "    console.log(\"Bokeh: ERROR: autoload.js configured with elementid '14ed304e-7940-405c-8e25-af7116652922' but no matching script tag was found. \")\n",
       "    return false;\n",
       "  }\n",
       "\n",
       "  var js_urls = [\"https://cdn.pydata.org/bokeh/release/bokeh-0.12.4.min.js\", \"https://cdn.pydata.org/bokeh/release/bokeh-widgets-0.12.4.min.js\"];\n",
       "\n",
       "  var inline_js = [\n",
       "    function(Bokeh) {\n",
       "      Bokeh.set_log_level(\"info\");\n",
       "    },\n",
       "    \n",
       "    function(Bokeh) {\n",
       "      \n",
       "      document.getElementById(\"14ed304e-7940-405c-8e25-af7116652922\").textContent = \"BokehJS is loading...\";\n",
       "    },\n",
       "    function(Bokeh) {\n",
       "      console.log(\"Bokeh: injecting CSS: https://cdn.pydata.org/bokeh/release/bokeh-0.12.4.min.css\");\n",
       "      Bokeh.embed.inject_css(\"https://cdn.pydata.org/bokeh/release/bokeh-0.12.4.min.css\");\n",
       "      console.log(\"Bokeh: injecting CSS: https://cdn.pydata.org/bokeh/release/bokeh-widgets-0.12.4.min.css\");\n",
       "      Bokeh.embed.inject_css(\"https://cdn.pydata.org/bokeh/release/bokeh-widgets-0.12.4.min.css\");\n",
       "    }\n",
       "  ];\n",
       "\n",
       "  function run_inline_js() {\n",
       "    \n",
       "    if ((window.Bokeh !== undefined) || (force === true)) {\n",
       "      for (var i = 0; i < inline_js.length; i++) {\n",
       "        inline_js[i](window.Bokeh);\n",
       "      }if (force === true) {\n",
       "        display_loaded();\n",
       "      }} else if (Date.now() < window._bokeh_timeout) {\n",
       "      setTimeout(run_inline_js, 100);\n",
       "    } else if (!window._bokeh_failed_load) {\n",
       "      console.log(\"Bokeh: BokehJS failed to load within specified timeout.\");\n",
       "      window._bokeh_failed_load = true;\n",
       "    } else if (force !== true) {\n",
       "      var cell = $(document.getElementById(\"14ed304e-7940-405c-8e25-af7116652922\")).parents('.cell').data().cell;\n",
       "      cell.output_area.append_execute_result(NB_LOAD_WARNING)\n",
       "    }\n",
       "\n",
       "  }\n",
       "\n",
       "  if (window._bokeh_is_loading === 0) {\n",
       "    console.log(\"Bokeh: BokehJS loaded, going straight to plotting\");\n",
       "    run_inline_js();\n",
       "  } else {\n",
       "    load_libs(js_urls, function() {\n",
       "      console.log(\"Bokeh: BokehJS plotting callback run at\", now());\n",
       "      run_inline_js();\n",
       "    });\n",
       "  }\n",
       "}(this));"
      ]
     },
     "metadata": {},
     "output_type": "display_data"
    },
    {
     "data": {
      "text/html": [
       "\n",
       "\n",
       "    <div class=\"bk-root\">\n",
       "        <div class=\"bk-plotdiv\" id=\"d38f34fb-26b6-4416-916f-28d16ae46c1a\"></div>\n",
       "    </div>\n",
       "<script type=\"text/javascript\">\n",
       "  \n",
       "  (function(global) {\n",
       "    function now() {\n",
       "      return new Date();\n",
       "    }\n",
       "  \n",
       "    var force = false;\n",
       "  \n",
       "    if (typeof (window._bokeh_onload_callbacks) === \"undefined\" || force === true) {\n",
       "      window._bokeh_onload_callbacks = [];\n",
       "      window._bokeh_is_loading = undefined;\n",
       "    }\n",
       "  \n",
       "  \n",
       "    \n",
       "    if (typeof (window._bokeh_timeout) === \"undefined\" || force === true) {\n",
       "      window._bokeh_timeout = Date.now() + 0;\n",
       "      window._bokeh_failed_load = false;\n",
       "    }\n",
       "  \n",
       "    var NB_LOAD_WARNING = {'data': {'text/html':\n",
       "       \"<div style='background-color: #fdd'>\\n\"+\n",
       "       \"<p>\\n\"+\n",
       "       \"BokehJS does not appear to have successfully loaded. If loading BokehJS from CDN, this \\n\"+\n",
       "       \"may be due to a slow or bad network connection. Possible fixes:\\n\"+\n",
       "       \"</p>\\n\"+\n",
       "       \"<ul>\\n\"+\n",
       "       \"<li>re-rerun `output_notebook()` to attempt to load from CDN again, or</li>\\n\"+\n",
       "       \"<li>use INLINE resources instead, as so:</li>\\n\"+\n",
       "       \"</ul>\\n\"+\n",
       "       \"<code>\\n\"+\n",
       "       \"from bokeh.resources import INLINE\\n\"+\n",
       "       \"output_notebook(resources=INLINE)\\n\"+\n",
       "       \"</code>\\n\"+\n",
       "       \"</div>\"}};\n",
       "  \n",
       "    function display_loaded() {\n",
       "      if (window.Bokeh !== undefined) {\n",
       "        document.getElementById(\"d38f34fb-26b6-4416-916f-28d16ae46c1a\").textContent = \"BokehJS successfully loaded.\";\n",
       "      } else if (Date.now() < window._bokeh_timeout) {\n",
       "        setTimeout(display_loaded, 100)\n",
       "      }\n",
       "    }if ((window.Jupyter !== undefined) && Jupyter.notebook.kernel) {\n",
       "      comm_manager = Jupyter.notebook.kernel.comm_manager\n",
       "      comm_manager.register_target(\"e005336f-2071-4dd1-b7f0-4a0d771217d6\", function () {});\n",
       "    }\n",
       "  \n",
       "    function run_callbacks() {\n",
       "      window._bokeh_onload_callbacks.forEach(function(callback) { callback() });\n",
       "      delete window._bokeh_onload_callbacks\n",
       "      console.info(\"Bokeh: all callbacks have finished\");\n",
       "    }\n",
       "  \n",
       "    function load_libs(js_urls, callback) {\n",
       "      window._bokeh_onload_callbacks.push(callback);\n",
       "      if (window._bokeh_is_loading > 0) {\n",
       "        console.log(\"Bokeh: BokehJS is being loaded, scheduling callback at\", now());\n",
       "        return null;\n",
       "      }\n",
       "      if (js_urls == null || js_urls.length === 0) {\n",
       "        run_callbacks();\n",
       "        return null;\n",
       "      }\n",
       "      console.log(\"Bokeh: BokehJS not loaded, scheduling load and callback at\", now());\n",
       "      window._bokeh_is_loading = js_urls.length;\n",
       "      for (var i = 0; i < js_urls.length; i++) {\n",
       "        var url = js_urls[i];\n",
       "        var s = document.createElement('script');\n",
       "        s.src = url;\n",
       "        s.async = false;\n",
       "        s.onreadystatechange = s.onload = function() {\n",
       "          window._bokeh_is_loading--;\n",
       "          if (window._bokeh_is_loading === 0) {\n",
       "            console.log(\"Bokeh: all BokehJS libraries loaded\");\n",
       "            run_callbacks()\n",
       "          }\n",
       "        };\n",
       "        s.onerror = function() {\n",
       "          console.warn(\"failed to load library \" + url);\n",
       "        };\n",
       "        console.log(\"Bokeh: injecting script tag for BokehJS library: \", url);\n",
       "        document.getElementsByTagName(\"head\")[0].appendChild(s);\n",
       "      }\n",
       "    };var element = document.getElementById(\"d38f34fb-26b6-4416-916f-28d16ae46c1a\");\n",
       "    if (element == null) {\n",
       "      console.log(\"Bokeh: ERROR: autoload.js configured with elementid 'd38f34fb-26b6-4416-916f-28d16ae46c1a' but no matching script tag was found. \")\n",
       "      return false;\n",
       "    }\n",
       "  \n",
       "    var js_urls = [];\n",
       "  \n",
       "    var inline_js = [\n",
       "      function(Bokeh) {\n",
       "        (function() {\n",
       "          var fn = function() {\n",
       "            var docs_json = {\"7455375e-3043-4d9d-9c60-97f8bdc47218\":{\"roots\":{\"references\":[{\"attributes\":{\"callback\":null,\"column_names\":[\"line_color\",\"line_alpha\",\"color\",\"fill_alpha\",\"height\",\"width\",\"y\",\"x\",\"label\"],\"data\":{\"chart_index\":[{\"country\":\"Sudan\"}],\"color\":[\"#f22c40\"],\"country\":[\"Sudan\"],\"fill_alpha\":[0.8],\"height\":[83380000.0],\"label\":[{\"country\":\"Sudan\"}],\"line_alpha\":[1.0],\"line_color\":[\"white\"],\"width\":[0.8],\"x\":[\"Sudan\"],\"y\":[41690000.0]}},\"id\":\"2167c69b-2fa5-45d0-80a5-ac295a19e17e\",\"type\":\"ColumnDataSource\"},{\"attributes\":{\"data_source\":{\"id\":\"77ab2ea4-05cb-4e81-8814-8f96b5356597\",\"type\":\"ColumnDataSource\"},\"glyph\":{\"id\":\"1122c509-f84d-4adc-879b-aff4c0bf95d0\",\"type\":\"Rect\"},\"hover_glyph\":null,\"nonselection_glyph\":null,\"selection_glyph\":null},\"id\":\"14bc597e-23f2-4e4b-9212-34dd66af4fa4\",\"type\":\"GlyphRenderer\"},{\"attributes\":{\"fill_alpha\":{\"field\":\"fill_alpha\"},\"fill_color\":{\"field\":\"color\"},\"height\":{\"field\":\"height\",\"units\":\"data\"},\"line_color\":{\"field\":\"line_color\"},\"width\":{\"field\":\"width\",\"units\":\"data\"},\"x\":{\"field\":\"x\"},\"y\":{\"field\":\"y\"}},\"id\":\"52dcd792-66d7-462c-b163-ffbfece94306\",\"type\":\"Rect\"},{\"attributes\":{\"fill_alpha\":{\"field\":\"fill_alpha\"},\"fill_color\":{\"field\":\"color\"},\"height\":{\"field\":\"height\",\"units\":\"data\"},\"line_color\":{\"field\":\"line_color\"},\"width\":{\"field\":\"width\",\"units\":\"data\"},\"x\":{\"field\":\"x\"},\"y\":{\"field\":\"y\"}},\"id\":\"00f3c6ff-ef89-4d7c-8c3f-1d6900b4b49a\",\"type\":\"Rect\"},{\"attributes\":{\"dimension\":1,\"plot\":{\"id\":\"e9af399d-2d85-48be-b90e-c7ff23bf4cb1\",\"subtype\":\"Chart\",\"type\":\"Plot\"},\"ticker\":{\"id\":\"5661ab2e-0287-4a9c-88e2-37ccac0972d4\",\"type\":\"BasicTicker\"}},\"id\":\"c9558bd6-a886-4801-8620-a23786486093\",\"type\":\"Grid\"},{\"attributes\":{\"callback\":null,\"column_names\":[\"line_color\",\"line_alpha\",\"color\",\"fill_alpha\",\"height\",\"width\",\"y\",\"x\",\"label\"],\"data\":{\"chart_index\":[{\"country\":\"Nepal\"}],\"color\":[\"#f22c40\"],\"country\":[\"Nepal\"],\"fill_alpha\":[0.8],\"height\":[87160000.0],\"label\":[{\"country\":\"Nepal\"}],\"line_alpha\":[1.0],\"line_color\":[\"white\"],\"width\":[0.8],\"x\":[\"Nepal\"],\"y\":[43580000.0]}},\"id\":\"19ab3be0-2f60-4d76-8b4a-164fca3eff9f\",\"type\":\"ColumnDataSource\"},{\"attributes\":{\"axis_label\":\"Country\",\"formatter\":{\"id\":\"d622576b-8b79-4494-b8e9-0740625caa17\",\"type\":\"CategoricalTickFormatter\"},\"major_label_orientation\":0.7853981633974483,\"plot\":{\"id\":\"e9af399d-2d85-48be-b90e-c7ff23bf4cb1\",\"subtype\":\"Chart\",\"type\":\"Plot\"},\"ticker\":{\"id\":\"9b969dcb-c903-4dc4-88a7-35fb452e5a49\",\"type\":\"CategoricalTicker\"}},\"id\":\"117b4f6c-7bb1-48b0-a182-248da96c015d\",\"type\":\"CategoricalAxis\"},{\"attributes\":{\"data_source\":{\"id\":\"ff1bd5f4-692d-4e67-8a48-bd494d8c1553\",\"type\":\"ColumnDataSource\"},\"glyph\":{\"id\":\"2b4881e0-1fee-49ce-a80e-59dc48f1758f\",\"type\":\"Rect\"},\"hover_glyph\":null,\"nonselection_glyph\":null,\"selection_glyph\":null},\"id\":\"e4d02e7a-f3f8-43ac-8554-5770229c69b0\",\"type\":\"GlyphRenderer\"},{\"attributes\":{},\"id\":\"9b969dcb-c903-4dc4-88a7-35fb452e5a49\",\"type\":\"CategoricalTicker\"},{\"attributes\":{\"callback\":null,\"column_names\":[\"line_color\",\"line_alpha\",\"color\",\"fill_alpha\",\"height\",\"width\",\"y\",\"x\",\"label\"],\"data\":{\"chart_index\":[{\"country\":\"Ghana\"}],\"color\":[\"#f22c40\"],\"country\":[\"Ghana\"],\"fill_alpha\":[0.8],\"height\":[75500000.0],\"label\":[{\"country\":\"Ghana\"}],\"line_alpha\":[1.0],\"line_color\":[\"white\"],\"width\":[0.8],\"x\":[\"Ghana\"],\"y\":[37750000.0]}},\"id\":\"c52b70d2-5764-47c7-bf0a-bcf042f0fd17\",\"type\":\"ColumnDataSource\"},{\"attributes\":{\"plot\":{\"id\":\"e9af399d-2d85-48be-b90e-c7ff23bf4cb1\",\"subtype\":\"Chart\",\"type\":\"Plot\"}},\"id\":\"4d9aa947-61a9-4a00-ae2c-fb7d9298aa40\",\"type\":\"HelpTool\"},{\"attributes\":{\"fill_alpha\":{\"field\":\"fill_alpha\"},\"fill_color\":{\"field\":\"color\"},\"height\":{\"field\":\"height\",\"units\":\"data\"},\"line_color\":{\"field\":\"line_color\"},\"width\":{\"field\":\"width\",\"units\":\"data\"},\"x\":{\"field\":\"x\"},\"y\":{\"field\":\"y\"}},\"id\":\"699ab820-f033-4da6-86e9-c91fc5781ab4\",\"type\":\"Rect\"},{\"attributes\":{\"format\":\"($ 0 a)\"},\"id\":\"ed928d7f-94ab-4864-8517-2e89398ac5a2\",\"type\":\"NumeralTickFormatter\"},{\"attributes\":{\"data_source\":{\"id\":\"c5fad15c-7db1-4091-914a-ee0a7682ffcf\",\"type\":\"ColumnDataSource\"},\"glyph\":{\"id\":\"cadee0be-c2e4-481b-abb5-7fcd14e495ec\",\"type\":\"Rect\"},\"hover_glyph\":null,\"nonselection_glyph\":null,\"selection_glyph\":null},\"id\":\"da87c62f-d720-42dc-8b9d-3348159ef061\",\"type\":\"GlyphRenderer\"},{\"attributes\":{\"data_source\":{\"id\":\"d27f7700-010e-4276-a965-d840b7f4307e\",\"type\":\"ColumnDataSource\"},\"glyph\":{\"id\":\"044c2d27-67ab-4d89-b874-659981dcb8ac\",\"type\":\"Rect\"},\"hover_glyph\":null,\"nonselection_glyph\":null,\"selection_glyph\":null},\"id\":\"71c75763-6b48-4399-9012-5366f8a20d27\",\"type\":\"GlyphRenderer\"},{\"attributes\":{\"axis_label\":\"Sum( Grant_Amt )\",\"formatter\":{\"id\":\"ed928d7f-94ab-4864-8517-2e89398ac5a2\",\"type\":\"NumeralTickFormatter\"},\"plot\":{\"id\":\"e9af399d-2d85-48be-b90e-c7ff23bf4cb1\",\"subtype\":\"Chart\",\"type\":\"Plot\"},\"ticker\":{\"id\":\"5661ab2e-0287-4a9c-88e2-37ccac0972d4\",\"type\":\"BasicTicker\"}},\"id\":\"41db768d-5568-4994-b201-ee6a14e3073d\",\"type\":\"LinearAxis\"},{\"attributes\":{\"callback\":null,\"column_names\":[\"line_color\",\"line_alpha\",\"color\",\"fill_alpha\",\"height\",\"width\",\"y\",\"x\",\"label\"],\"data\":{\"chart_index\":[{\"country\":\"West Bank and Gaza\"}],\"color\":[\"#f22c40\"],\"country\":[\"West Bank and Gaza\"],\"fill_alpha\":[0.8],\"height\":[75050000.0],\"label\":[{\"country\":\"West Bank and Gaza\"}],\"line_alpha\":[1.0],\"line_color\":[\"white\"],\"width\":[0.8],\"x\":[\"West Bank and Gaza\"],\"y\":[37525000.0]}},\"id\":\"392dba77-124e-4171-9e2c-c5eb6a31b081\",\"type\":\"ColumnDataSource\"},{\"attributes\":{\"callback\":null,\"column_names\":[\"line_color\",\"line_alpha\",\"color\",\"fill_alpha\",\"height\",\"width\",\"y\",\"x\",\"label\"],\"data\":{\"chart_index\":[{\"country\":\"Madagascar\"}],\"color\":[\"#f22c40\"],\"country\":[\"Madagascar\"],\"fill_alpha\":[0.8],\"height\":[85400000.0],\"label\":[{\"country\":\"Madagascar\"}],\"line_alpha\":[1.0],\"line_color\":[\"white\"],\"width\":[0.8],\"x\":[\"Madagascar\"],\"y\":[42700000.0]}},\"id\":\"77ab2ea4-05cb-4e81-8814-8f96b5356597\",\"type\":\"ColumnDataSource\"},{\"attributes\":{\"fill_alpha\":{\"field\":\"fill_alpha\"},\"fill_color\":{\"field\":\"color\"},\"height\":{\"field\":\"height\",\"units\":\"data\"},\"line_color\":{\"field\":\"line_color\"},\"width\":{\"field\":\"width\",\"units\":\"data\"},\"x\":{\"field\":\"x\"},\"y\":{\"field\":\"y\"}},\"id\":\"8c3ff04b-c9b1-4150-9184-7a5df9ec649d\",\"type\":\"Rect\"},{\"attributes\":{\"data_source\":{\"id\":\"19ab3be0-2f60-4d76-8b4a-164fca3eff9f\",\"type\":\"ColumnDataSource\"},\"glyph\":{\"id\":\"00f3c6ff-ef89-4d7c-8c3f-1d6900b4b49a\",\"type\":\"Rect\"},\"hover_glyph\":null,\"nonselection_glyph\":null,\"selection_glyph\":null},\"id\":\"a5bb923a-67d6-4fe8-aa82-fecb60ae9019\",\"type\":\"GlyphRenderer\"},{\"attributes\":{\"data_source\":{\"id\":\"ca60c140-d1ef-41c7-a0cf-497c7dc2ddd4\",\"type\":\"ColumnDataSource\"},\"glyph\":{\"id\":\"840e054c-5e52-4407-8fbf-f7029853d9d8\",\"type\":\"Rect\"},\"hover_glyph\":null,\"nonselection_glyph\":null,\"selection_glyph\":null},\"id\":\"6fb78571-2c65-4263-92a1-51f0bc3843f5\",\"type\":\"GlyphRenderer\"},{\"attributes\":{\"fill_alpha\":{\"field\":\"fill_alpha\"},\"fill_color\":{\"field\":\"color\"},\"height\":{\"field\":\"height\",\"units\":\"data\"},\"line_color\":{\"field\":\"line_color\"},\"width\":{\"field\":\"width\",\"units\":\"data\"},\"x\":{\"field\":\"x\"},\"y\":{\"field\":\"y\"}},\"id\":\"044c2d27-67ab-4d89-b874-659981dcb8ac\",\"type\":\"Rect\"},{\"attributes\":{\"fill_alpha\":{\"field\":\"fill_alpha\"},\"fill_color\":{\"field\":\"color\"},\"height\":{\"field\":\"height\",\"units\":\"data\"},\"line_color\":{\"field\":\"line_color\"},\"width\":{\"field\":\"width\",\"units\":\"data\"},\"x\":{\"field\":\"x\"},\"y\":{\"field\":\"y\"}},\"id\":\"48838c4c-88d6-4ab8-9623-2f4fbe0b4947\",\"type\":\"Rect\"},{\"attributes\":{\"data_source\":{\"id\":\"2167c69b-2fa5-45d0-80a5-ac295a19e17e\",\"type\":\"ColumnDataSource\"},\"glyph\":{\"id\":\"8c3ff04b-c9b1-4150-9184-7a5df9ec649d\",\"type\":\"Rect\"},\"hover_glyph\":null,\"nonselection_glyph\":null,\"selection_glyph\":null},\"id\":\"5de1a0de-5ef4-487f-8ceb-0ed7746d5b11\",\"type\":\"GlyphRenderer\"},{\"attributes\":{\"callback\":null,\"column_names\":[\"line_color\",\"line_alpha\",\"color\",\"fill_alpha\",\"height\",\"width\",\"y\",\"x\",\"label\"],\"data\":{\"chart_index\":[{\"country\":\"Afghanistan\"}],\"color\":[\"#f22c40\"],\"country\":[\"Afghanistan\"],\"fill_alpha\":[0.8],\"height\":[174730000.0],\"label\":[{\"country\":\"Afghanistan\"}],\"line_alpha\":[1.0],\"line_color\":[\"white\"],\"width\":[0.8],\"x\":[\"Afghanistan\"],\"y\":[87365000.0]}},\"id\":\"e2e65b88-5303-4984-8ac4-b2b54d2a0978\",\"type\":\"ColumnDataSource\"},{\"attributes\":{\"callback\":null,\"end\":448150500.0},\"id\":\"3b8bfb67-f0d0-433d-a106-edead93f530c\",\"type\":\"Range1d\"},{\"attributes\":{\"fill_alpha\":{\"field\":\"fill_alpha\"},\"fill_color\":{\"field\":\"color\"},\"height\":{\"field\":\"height\",\"units\":\"data\"},\"line_color\":{\"field\":\"line_color\"},\"width\":{\"field\":\"width\",\"units\":\"data\"},\"x\":{\"field\":\"x\"},\"y\":{\"field\":\"y\"}},\"id\":\"840e054c-5e52-4407-8fbf-f7029853d9d8\",\"type\":\"Rect\"},{\"attributes\":{\"plot\":{\"id\":\"e9af399d-2d85-48be-b90e-c7ff23bf4cb1\",\"subtype\":\"Chart\",\"type\":\"Plot\"}},\"id\":\"477d33b2-5167-4c3a-bc71-ec7ad02f89a3\",\"type\":\"SaveTool\"},{\"attributes\":{},\"id\":\"5661ab2e-0287-4a9c-88e2-37ccac0972d4\",\"type\":\"BasicTicker\"},{\"attributes\":{\"data_source\":{\"id\":\"e2e65b88-5303-4984-8ac4-b2b54d2a0978\",\"type\":\"ColumnDataSource\"},\"glyph\":{\"id\":\"48838c4c-88d6-4ab8-9623-2f4fbe0b4947\",\"type\":\"Rect\"},\"hover_glyph\":null,\"nonselection_glyph\":null,\"selection_glyph\":null},\"id\":\"a4ef62c5-dffd-42c9-95b1-2128126f4adf\",\"type\":\"GlyphRenderer\"},{\"attributes\":{\"overlay\":{\"id\":\"8e56a010-4dde-42b1-876a-4874ce711a2a\",\"type\":\"BoxAnnotation\"},\"plot\":{\"id\":\"e9af399d-2d85-48be-b90e-c7ff23bf4cb1\",\"subtype\":\"Chart\",\"type\":\"Plot\"}},\"id\":\"ba168b0a-4386-4cbd-9d5f-284c000ef1d5\",\"type\":\"BoxZoomTool\"},{\"attributes\":{\"plot\":null,\"text\":\"Top 10 Countries funded by the World Bank \"},\"id\":\"39d2be32-029c-4345-ba63-a02dfc3a5b2a\",\"type\":\"Title\"},{\"attributes\":{\"active_drag\":\"auto\",\"active_scroll\":\"auto\",\"active_tap\":\"auto\",\"tools\":[{\"id\":\"705e7f19-b1d4-4aa2-917e-b6170b1c9c60\",\"type\":\"PanTool\"},{\"id\":\"76f99d43-3ab9-48e7-ba06-aa16de1d31d5\",\"type\":\"WheelZoomTool\"},{\"id\":\"ba168b0a-4386-4cbd-9d5f-284c000ef1d5\",\"type\":\"BoxZoomTool\"},{\"id\":\"477d33b2-5167-4c3a-bc71-ec7ad02f89a3\",\"type\":\"SaveTool\"},{\"id\":\"a41d63cd-0e82-4d05-8a43-69f7baf3ca01\",\"type\":\"ResetTool\"},{\"id\":\"4d9aa947-61a9-4a00-ae2c-fb7d9298aa40\",\"type\":\"HelpTool\"}]},\"id\":\"c269251b-79dc-4516-9660-75a8c2f3db24\",\"type\":\"Toolbar\"},{\"attributes\":{\"bottom_units\":\"screen\",\"fill_alpha\":{\"value\":0.5},\"fill_color\":{\"value\":\"lightgrey\"},\"left_units\":\"screen\",\"level\":\"overlay\",\"line_alpha\":{\"value\":1.0},\"line_color\":{\"value\":\"black\"},\"line_dash\":[4,4],\"line_width\":{\"value\":2},\"plot\":null,\"render_mode\":\"css\",\"right_units\":\"screen\",\"top_units\":\"screen\"},\"id\":\"8e56a010-4dde-42b1-876a-4874ce711a2a\",\"type\":\"BoxAnnotation\"},{\"attributes\":{\"fill_alpha\":{\"field\":\"fill_alpha\"},\"fill_color\":{\"field\":\"color\"},\"height\":{\"field\":\"height\",\"units\":\"data\"},\"line_color\":{\"field\":\"line_color\"},\"width\":{\"field\":\"width\",\"units\":\"data\"},\"x\":{\"field\":\"x\"},\"y\":{\"field\":\"y\"}},\"id\":\"2b4881e0-1fee-49ce-a80e-59dc48f1758f\",\"type\":\"Rect\"},{\"attributes\":{\"fill_alpha\":{\"field\":\"fill_alpha\"},\"fill_color\":{\"field\":\"color\"},\"height\":{\"field\":\"height\",\"units\":\"data\"},\"line_color\":{\"field\":\"line_color\"},\"width\":{\"field\":\"width\",\"units\":\"data\"},\"x\":{\"field\":\"x\"},\"y\":{\"field\":\"y\"}},\"id\":\"cadee0be-c2e4-481b-abb5-7fcd14e495ec\",\"type\":\"Rect\"},{\"attributes\":{\"below\":[{\"id\":\"117b4f6c-7bb1-48b0-a182-248da96c015d\",\"type\":\"CategoricalAxis\"}],\"css_classes\":null,\"left\":[{\"id\":\"41db768d-5568-4994-b201-ee6a14e3073d\",\"type\":\"LinearAxis\"}],\"renderers\":[{\"id\":\"8e56a010-4dde-42b1-876a-4874ce711a2a\",\"type\":\"BoxAnnotation\"},{\"id\":\"6fb78571-2c65-4263-92a1-51f0bc3843f5\",\"type\":\"GlyphRenderer\"},{\"id\":\"a4ef62c5-dffd-42c9-95b1-2128126f4adf\",\"type\":\"GlyphRenderer\"},{\"id\":\"e4d02e7a-f3f8-43ac-8554-5770229c69b0\",\"type\":\"GlyphRenderer\"},{\"id\":\"71c75763-6b48-4399-9012-5366f8a20d27\",\"type\":\"GlyphRenderer\"},{\"id\":\"da87c62f-d720-42dc-8b9d-3348159ef061\",\"type\":\"GlyphRenderer\"},{\"id\":\"a5bb923a-67d6-4fe8-aa82-fecb60ae9019\",\"type\":\"GlyphRenderer\"},{\"id\":\"14bc597e-23f2-4e4b-9212-34dd66af4fa4\",\"type\":\"GlyphRenderer\"},{\"id\":\"5de1a0de-5ef4-487f-8ceb-0ed7746d5b11\",\"type\":\"GlyphRenderer\"},{\"id\":\"b2963db4-4ccc-4248-acd8-3549b5794e8f\",\"type\":\"GlyphRenderer\"},{\"id\":\"f8572848-329c-4427-a83f-5fc5a5440cbf\",\"type\":\"GlyphRenderer\"},{\"id\":\"117b4f6c-7bb1-48b0-a182-248da96c015d\",\"type\":\"CategoricalAxis\"},{\"id\":\"41db768d-5568-4994-b201-ee6a14e3073d\",\"type\":\"LinearAxis\"},{\"id\":\"c9558bd6-a886-4801-8620-a23786486093\",\"type\":\"Grid\"}],\"title\":{\"id\":\"39d2be32-029c-4345-ba63-a02dfc3a5b2a\",\"type\":\"Title\"},\"tool_events\":{\"id\":\"7ba34ef9-b02b-4ada-ae51-740a8c59fd22\",\"type\":\"ToolEvents\"},\"toolbar\":{\"id\":\"c269251b-79dc-4516-9660-75a8c2f3db24\",\"type\":\"Toolbar\"},\"x_mapper_type\":\"auto\",\"x_range\":{\"id\":\"0197e081-8380-4842-b537-6d6992b3a6dc\",\"type\":\"FactorRange\"},\"y_mapper_type\":\"auto\",\"y_range\":{\"id\":\"3b8bfb67-f0d0-433d-a106-edead93f530c\",\"type\":\"Range1d\"}},\"id\":\"e9af399d-2d85-48be-b90e-c7ff23bf4cb1\",\"subtype\":\"Chart\",\"type\":\"Plot\"},{\"attributes\":{},\"id\":\"d622576b-8b79-4494-b8e9-0740625caa17\",\"type\":\"CategoricalTickFormatter\"},{\"attributes\":{\"data_source\":{\"id\":\"392dba77-124e-4171-9e2c-c5eb6a31b081\",\"type\":\"ColumnDataSource\"},\"glyph\":{\"id\":\"699ab820-f033-4da6-86e9-c91fc5781ab4\",\"type\":\"Rect\"},\"hover_glyph\":null,\"nonselection_glyph\":null,\"selection_glyph\":null},\"id\":\"f8572848-329c-4427-a83f-5fc5a5440cbf\",\"type\":\"GlyphRenderer\"},{\"attributes\":{\"fill_alpha\":{\"field\":\"fill_alpha\"},\"fill_color\":{\"field\":\"color\"},\"height\":{\"field\":\"height\",\"units\":\"data\"},\"line_color\":{\"field\":\"line_color\"},\"width\":{\"field\":\"width\",\"units\":\"data\"},\"x\":{\"field\":\"x\"},\"y\":{\"field\":\"y\"}},\"id\":\"1122c509-f84d-4adc-879b-aff4c0bf95d0\",\"type\":\"Rect\"},{\"attributes\":{\"plot\":{\"id\":\"e9af399d-2d85-48be-b90e-c7ff23bf4cb1\",\"subtype\":\"Chart\",\"type\":\"Plot\"}},\"id\":\"705e7f19-b1d4-4aa2-917e-b6170b1c9c60\",\"type\":\"PanTool\"},{\"attributes\":{\"callback\":null,\"column_names\":[\"line_color\",\"line_alpha\",\"color\",\"fill_alpha\",\"height\",\"width\",\"y\",\"x\",\"label\"],\"data\":{\"chart_index\":[{\"country\":\"Vietnam\"}],\"color\":[\"#f22c40\"],\"country\":[\"Vietnam\"],\"fill_alpha\":[0.8],\"height\":[118240000.0],\"label\":[{\"country\":\"Vietnam\"}],\"line_alpha\":[1.0],\"line_color\":[\"white\"],\"width\":[0.8],\"x\":[\"Vietnam\"],\"y\":[59120000.0]}},\"id\":\"ff1bd5f4-692d-4e67-8a48-bd494d8c1553\",\"type\":\"ColumnDataSource\"},{\"attributes\":{\"callback\":null,\"column_names\":[\"line_color\",\"line_alpha\",\"color\",\"fill_alpha\",\"height\",\"width\",\"y\",\"x\",\"label\"],\"data\":{\"chart_index\":[{\"country\":\"China\"}],\"color\":[\"#f22c40\"],\"country\":[\"China\"],\"fill_alpha\":[0.8],\"height\":[426810000.0],\"label\":[{\"country\":\"China\"}],\"line_alpha\":[1.0],\"line_color\":[\"white\"],\"width\":[0.8],\"x\":[\"China\"],\"y\":[213405000.0]}},\"id\":\"ca60c140-d1ef-41c7-a0cf-497c7dc2ddd4\",\"type\":\"ColumnDataSource\"},{\"attributes\":{\"callback\":null,\"column_names\":[\"line_color\",\"line_alpha\",\"color\",\"fill_alpha\",\"height\",\"width\",\"y\",\"x\",\"label\"],\"data\":{\"chart_index\":[{\"country\":\"Congo, Democratic Republic of\"}],\"color\":[\"#f22c40\"],\"country\":[\"Congo, Democratic Republic of\"],\"fill_alpha\":[0.8],\"height\":[100500000.0],\"label\":[{\"country\":\"Congo, Democratic Republic of\"}],\"line_alpha\":[1.0],\"line_color\":[\"white\"],\"width\":[0.8],\"x\":[\"Congo, Democratic Republic of\"],\"y\":[50250000.0]}},\"id\":\"d27f7700-010e-4276-a965-d840b7f4307e\",\"type\":\"ColumnDataSource\"},{\"attributes\":{\"data_source\":{\"id\":\"c52b70d2-5764-47c7-bf0a-bcf042f0fd17\",\"type\":\"ColumnDataSource\"},\"glyph\":{\"id\":\"52dcd792-66d7-462c-b163-ffbfece94306\",\"type\":\"Rect\"},\"hover_glyph\":null,\"nonselection_glyph\":null,\"selection_glyph\":null},\"id\":\"b2963db4-4ccc-4248-acd8-3549b5794e8f\",\"type\":\"GlyphRenderer\"},{\"attributes\":{},\"id\":\"7ba34ef9-b02b-4ada-ae51-740a8c59fd22\",\"type\":\"ToolEvents\"},{\"attributes\":{\"callback\":null,\"factors\":[\"China\",\"Afghanistan\",\"Vietnam\",\"Congo, Democratic Republic of\",\"Morocco\",\"Nepal\",\"Madagascar\",\"Sudan\",\"Ghana\",\"West Bank and Gaza\"]},\"id\":\"0197e081-8380-4842-b537-6d6992b3a6dc\",\"type\":\"FactorRange\"},{\"attributes\":{\"plot\":{\"id\":\"e9af399d-2d85-48be-b90e-c7ff23bf4cb1\",\"subtype\":\"Chart\",\"type\":\"Plot\"}},\"id\":\"a41d63cd-0e82-4d05-8a43-69f7baf3ca01\",\"type\":\"ResetTool\"},{\"attributes\":{\"callback\":null,\"column_names\":[\"line_color\",\"line_alpha\",\"color\",\"fill_alpha\",\"height\",\"width\",\"y\",\"x\",\"label\"],\"data\":{\"chart_index\":[{\"country\":\"Morocco\"}],\"color\":[\"#f22c40\"],\"country\":[\"Morocco\"],\"fill_alpha\":[0.8],\"height\":[91250000.0],\"label\":[{\"country\":\"Morocco\"}],\"line_alpha\":[1.0],\"line_color\":[\"white\"],\"width\":[0.8],\"x\":[\"Morocco\"],\"y\":[45625000.0]}},\"id\":\"c5fad15c-7db1-4091-914a-ee0a7682ffcf\",\"type\":\"ColumnDataSource\"},{\"attributes\":{\"plot\":{\"id\":\"e9af399d-2d85-48be-b90e-c7ff23bf4cb1\",\"subtype\":\"Chart\",\"type\":\"Plot\"}},\"id\":\"76f99d43-3ab9-48e7-ba06-aa16de1d31d5\",\"type\":\"WheelZoomTool\"}],\"root_ids\":[\"e9af399d-2d85-48be-b90e-c7ff23bf4cb1\"]},\"title\":\"Bokeh Application\",\"version\":\"0.12.4\"}};\n",
       "            var render_items = [{\"docid\":\"7455375e-3043-4d9d-9c60-97f8bdc47218\",\"elementid\":\"d38f34fb-26b6-4416-916f-28d16ae46c1a\",\"modelid\":\"e9af399d-2d85-48be-b90e-c7ff23bf4cb1\",\"notebook_comms_target\":\"e005336f-2071-4dd1-b7f0-4a0d771217d6\"}];\n",
       "            \n",
       "            Bokeh.embed.embed_items(docs_json, render_items);\n",
       "          };\n",
       "          if (document.readyState != \"loading\") fn();\n",
       "          else document.addEventListener(\"DOMContentLoaded\", fn);\n",
       "        })();\n",
       "      },\n",
       "      function(Bokeh) {\n",
       "      }\n",
       "    ];\n",
       "  \n",
       "    function run_inline_js() {\n",
       "      \n",
       "      if ((window.Bokeh !== undefined) || (force === true)) {\n",
       "        for (var i = 0; i < inline_js.length; i++) {\n",
       "          inline_js[i](window.Bokeh);\n",
       "        }if (force === true) {\n",
       "          display_loaded();\n",
       "        }} else if (Date.now() < window._bokeh_timeout) {\n",
       "        setTimeout(run_inline_js, 100);\n",
       "      } else if (!window._bokeh_failed_load) {\n",
       "        console.log(\"Bokeh: BokehJS failed to load within specified timeout.\");\n",
       "        window._bokeh_failed_load = true;\n",
       "      } else if (force !== true) {\n",
       "        var cell = $(document.getElementById(\"d38f34fb-26b6-4416-916f-28d16ae46c1a\")).parents('.cell').data().cell;\n",
       "        cell.output_area.append_execute_result(NB_LOAD_WARNING)\n",
       "      }\n",
       "  \n",
       "    }\n",
       "  \n",
       "    if (window._bokeh_is_loading === 0) {\n",
       "      console.log(\"Bokeh: BokehJS loaded, going straight to plotting\");\n",
       "      run_inline_js();\n",
       "    } else {\n",
       "      load_libs(js_urls, function() {\n",
       "        console.log(\"Bokeh: BokehJS plotting callback run at\", now());\n",
       "        run_inline_js();\n",
       "      });\n",
       "    }\n",
       "  }(this));\n",
       "</script>"
      ]
     },
     "metadata": {},
     "output_type": "display_data"
    },
    {
     "name": "stderr",
     "output_type": "stream",
     "text": [
      "WARNING:/home/smauggy/anaconda2/lib/python2.7/site-packages/bokeh/core/validation/check.pyc:W-1003 (MALFORMED_CATEGORY_LABEL): Category labels cannot contain colons: [range:x_range] [first_value: 2012-11-22T00:00:00Z] [renderer: Chart(id='802c27ba-4af8-463f-8941-9fdab28eb089', ...)]\n"
     ]
    },
    {
     "data": {
      "text/html": [
       "<p><code>&lt;Bokeh Notebook handle for <strong>In[46]</strong>&gt;</code></p>"
      ],
      "text/plain": [
       "<bokeh.io._CommsHandle at 0x7fdcd2683d90>"
      ]
     },
     "execution_count": 46,
     "metadata": {},
     "output_type": "execute_result"
    }
   ],
   "source": [
    "from bokeh.charts import Bar, show\n",
    "from bokeh.charts.attributes import ColorAttr, CatAttr\n",
    "from bokeh.models import NumeralTickFormatter\n",
    "from bokeh.io import output_notebook\n",
    "output_notebook()\n",
    "p = Bar(sorted_data.head(10), values='grant_amt', title=\"Top 10 Countries funded by the World Bank \", label=CatAttr(columns=['country'], sort=False),legend=False)\n",
    "p.yaxis.formatter=NumeralTickFormatter(format=\"($ 0 a)\")\n",
    "show(p, notebook_handle=True)\n",
    "\n",
    "#creating a bokeh visualization to show the top 10 grant receiving countries "
   ]
  },
  {
   "cell_type": "code",
   "execution_count": 71,
   "metadata": {
    "collapsed": false,
    "deletable": true,
    "editable": true
   },
   "outputs": [],
   "source": [
    "from bokeh.charts import TimeSeries\n",
    "from bokeh.models import DatetimeTickFormatter\n",
    "output_notebook()\n",
    "\n",
    "\n",
    "timedata = pd.DataFrame(pairs1.reduceByKey(add).collect())\n",
    "\n",
    "timedata.columns = ['boardapprovaldate','grant_amt']\n",
    "\n",
    "timedata['boardapprovaldate'] = pd.to_datetime(timedata['boardapprovaldate'], format=('%Y-%m-%dT%H:%M:%SZ'))\n",
    "\n",
    "p = TimeSeries(timedata, x='boardapprovaldate',y='grant_amt')\n",
    "\n",
    "p.yaxis.formatter=NumeralTickFormatter(format=\"($ 0 a)\")\n",
    "p.xaxis.formatter=DatetimeTickFormatter(\n",
    "        days=[\"%d %B %Y\"],\n",
    "        months=[\"%d %B %Y\"],\n",
    "        years=[\"%d %B %Y\"])\n",
    "\n",
    "\n",
    "show(p)\n"
   ]
  },
  {
   "cell_type": "code",
   "execution_count": null,
   "metadata": {
    "collapsed": false,
    "deletable": true,
    "editable": true
   },
   "outputs": [],
   "source": []
  }
 ],
 "metadata": {
  "kernelspec": {
   "display_name": "Python 2",
   "language": "python",
   "name": "python2"
  },
  "language_info": {
   "codemirror_mode": {
    "name": "ipython",
    "version": 2
   },
   "file_extension": ".py",
   "mimetype": "text/x-python",
   "name": "python",
   "nbconvert_exporter": "python",
   "pygments_lexer": "ipython2",
   "version": "2.7.13"
  }
 },
 "nbformat": 4,
 "nbformat_minor": 2
}
