{
 "cells": [
  {
   "cell_type": "code",
   "execution_count": 2,
   "metadata": {
    "collapsed": true,
    "deletable": true,
    "editable": true
   },
   "outputs": [],
   "source": [
    "from pyspark import SparkContext\n",
    "from pyspark.sql import SparkSession,SQLContext\n",
    "from pyspark.sql.functions import *"
   ]
  },
  {
   "cell_type": "code",
   "execution_count": 3,
   "metadata": {
    "collapsed": false,
    "deletable": true,
    "editable": true
   },
   "outputs": [],
   "source": [
    "sc = SparkContext()\n",
    "\n",
    "#creating a sparkcontext instance"
   ]
  },
  {
   "cell_type": "code",
   "execution_count": 4,
   "metadata": {
    "collapsed": false,
    "deletable": true,
    "editable": true
   },
   "outputs": [],
   "source": [
    "sqlContext = SQLContext(sc)\n",
    "\n",
    "#creating a sqlcontext instance "
   ]
  },
  {
   "cell_type": "code",
   "execution_count": 73,
   "metadata": {
    "collapsed": false,
    "deletable": true,
    "editable": true
   },
   "outputs": [],
   "source": [
    "data = sqlContext.read.json(\"world_bank.json\")\n",
    "\n",
    "#reading world bank data and creating a DataFrame\n",
    "\n"
   ]
  },
  {
   "cell_type": "code",
   "execution_count": 7,
   "metadata": {
    "collapsed": false,
    "deletable": true,
    "editable": true
   },
   "outputs": [
    {
     "name": "stdout",
     "output_type": "stream",
     "text": [
      "root\n",
      " |-- _id: struct (nullable = true)\n",
      " |    |-- $oid: string (nullable = true)\n",
      " |-- approvalfy: string (nullable = true)\n",
      " |-- board_approval_month: string (nullable = true)\n",
      " |-- boardapprovaldate: string (nullable = true)\n",
      " |-- borrower: string (nullable = true)\n",
      " |-- closingdate: string (nullable = true)\n",
      " |-- country_namecode: string (nullable = true)\n",
      " |-- countrycode: string (nullable = true)\n",
      " |-- countryname: string (nullable = true)\n",
      " |-- countryshortname: string (nullable = true)\n",
      " |-- docty: string (nullable = true)\n",
      " |-- envassesmentcategorycode: string (nullable = true)\n",
      " |-- grantamt: long (nullable = true)\n",
      " |-- ibrdcommamt: long (nullable = true)\n",
      " |-- id: string (nullable = true)\n",
      " |-- idacommamt: long (nullable = true)\n",
      " |-- impagency: string (nullable = true)\n",
      " |-- lendinginstr: string (nullable = true)\n",
      " |-- lendinginstrtype: string (nullable = true)\n",
      " |-- lendprojectcost: long (nullable = true)\n",
      " |-- majorsector_percent: array (nullable = true)\n",
      " |    |-- element: struct (containsNull = true)\n",
      " |    |    |-- Name: string (nullable = true)\n",
      " |    |    |-- Percent: long (nullable = true)\n",
      " |-- mjsector_namecode: array (nullable = true)\n",
      " |    |-- element: struct (containsNull = true)\n",
      " |    |    |-- code: string (nullable = true)\n",
      " |    |    |-- name: string (nullable = true)\n",
      " |-- mjtheme: array (nullable = true)\n",
      " |    |-- element: string (containsNull = true)\n",
      " |-- mjtheme_namecode: array (nullable = true)\n",
      " |    |-- element: struct (containsNull = true)\n",
      " |    |    |-- code: string (nullable = true)\n",
      " |    |    |-- name: string (nullable = true)\n",
      " |-- mjthemecode: string (nullable = true)\n",
      " |-- prodline: string (nullable = true)\n",
      " |-- prodlinetext: string (nullable = true)\n",
      " |-- productlinetype: string (nullable = true)\n",
      " |-- project_abstract: struct (nullable = true)\n",
      " |    |-- cdata: string (nullable = true)\n",
      " |-- project_name: string (nullable = true)\n",
      " |-- projectdocs: array (nullable = true)\n",
      " |    |-- element: struct (containsNull = true)\n",
      " |    |    |-- DocDate: string (nullable = true)\n",
      " |    |    |-- DocType: string (nullable = true)\n",
      " |    |    |-- DocTypeDesc: string (nullable = true)\n",
      " |    |    |-- DocURL: string (nullable = true)\n",
      " |    |    |-- EntityID: string (nullable = true)\n",
      " |-- projectfinancialtype: string (nullable = true)\n",
      " |-- projectstatusdisplay: string (nullable = true)\n",
      " |-- regionname: string (nullable = true)\n",
      " |-- sector: array (nullable = true)\n",
      " |    |-- element: struct (containsNull = true)\n",
      " |    |    |-- Name: string (nullable = true)\n",
      " |-- sector1: struct (nullable = true)\n",
      " |    |-- Name: string (nullable = true)\n",
      " |    |-- Percent: long (nullable = true)\n",
      " |-- sector2: struct (nullable = true)\n",
      " |    |-- Name: string (nullable = true)\n",
      " |    |-- Percent: long (nullable = true)\n",
      " |-- sector3: struct (nullable = true)\n",
      " |    |-- Name: string (nullable = true)\n",
      " |    |-- Percent: long (nullable = true)\n",
      " |-- sector4: struct (nullable = true)\n",
      " |    |-- Name: string (nullable = true)\n",
      " |    |-- Percent: long (nullable = true)\n",
      " |-- sector_namecode: array (nullable = true)\n",
      " |    |-- element: struct (containsNull = true)\n",
      " |    |    |-- code: string (nullable = true)\n",
      " |    |    |-- name: string (nullable = true)\n",
      " |-- sectorcode: string (nullable = true)\n",
      " |-- source: string (nullable = true)\n",
      " |-- status: string (nullable = true)\n",
      " |-- supplementprojectflg: string (nullable = true)\n",
      " |-- theme1: struct (nullable = true)\n",
      " |    |-- Name: string (nullable = true)\n",
      " |    |-- Percent: long (nullable = true)\n",
      " |-- theme_namecode: array (nullable = true)\n",
      " |    |-- element: struct (containsNull = true)\n",
      " |    |    |-- code: string (nullable = true)\n",
      " |    |    |-- name: string (nullable = true)\n",
      " |-- themecode: string (nullable = true)\n",
      " |-- totalamt: long (nullable = true)\n",
      " |-- totalcommamt: long (nullable = true)\n",
      " |-- url: string (nullable = true)\n",
      "\n"
     ]
    }
   ],
   "source": [
    "data.printSchema()\n",
    "\n",
    "#exploring the data schema"
   ]
  },
  {
   "cell_type": "code",
   "execution_count": 8,
   "metadata": {
    "collapsed": false,
    "deletable": true,
    "editable": true
   },
   "outputs": [
    {
     "name": "stdout",
     "output_type": "stream",
     "text": [
      "+------+-----+\n",
      "|status|count|\n",
      "+------+-----+\n",
      "|Active|  438|\n",
      "|Closed|   62|\n",
      "+------+-----+\n",
      "\n"
     ]
    }
   ],
   "source": [
    "data.select(data['countryshortname'],data['grantamt'],data['status']).groupBy('status').count().show()\n",
    "\n",
    "#number of active and closed grants"
   ]
  },
  {
   "cell_type": "code",
   "execution_count": 9,
   "metadata": {
    "collapsed": false,
    "deletable": true,
    "editable": true
   },
   "outputs": [
    {
     "name": "stdout",
     "output_type": "stream",
     "text": [
      "+--------------------+---------+------+\n",
      "|    countryshortname| grantamt|status|\n",
      "+--------------------+---------+------+\n",
      "|               China|365000000|Active|\n",
      "|         Afghanistan|100000000|Active|\n",
      "|Congo, Democratic...|100000000|Active|\n",
      "|          Madagascar| 85400000|Active|\n",
      "|             Vietnam| 84600000|Active|\n",
      "|               Sudan| 76500000|Active|\n",
      "|               Ghana| 75500000|Active|\n",
      "|         Afghanistan| 74730000|Active|\n",
      "|             Morocco| 70000000|Active|\n",
      "|           Nicaragua| 51900000|Active|\n",
      "|              Jordan| 50000000|Active|\n",
      "|               Nepal| 46500000|Active|\n",
      "|                Mali| 41700000|Active|\n",
      "|  West Bank and Gaza| 40000000|Closed|\n",
      "|              Zambia| 36000000|Active|\n",
      "|          Bangladesh| 33800000|Active|\n",
      "|           Indonesia| 31700000|Active|\n",
      "|               Nepal| 31000000|Active|\n",
      "|               China| 27280000|Active|\n",
      "|          Kazakhstan| 21760000|Active|\n",
      "+--------------------+---------+------+\n",
      "only showing top 20 rows\n",
      "\n"
     ]
    }
   ],
   "source": [
    "data.select(data['countryshortname'],data['grantamt'],data['status']).orderBy(desc('grantamt')).show()\n",
    "#grant amount by country and their status"
   ]
  },
  {
   "cell_type": "code",
   "execution_count": 10,
   "metadata": {
    "collapsed": false,
    "deletable": true,
    "editable": true
   },
   "outputs": [
    {
     "name": "stdout",
     "output_type": "stream",
     "text": [
      "+--------------------+--------------------+--------------------+---------+------+\n",
      "|            borrower|    countryshortname|          regionname| grantamt|status|\n",
      "+--------------------+--------------------+--------------------+---------+------+\n",
      "|PEOPLE'S REPULIC ...|               China|East Asia and Pac...|365000000|Active|\n",
      "|ISLAMIC REPUBLIC ...|         Afghanistan|          South Asia|100000000|Active|\n",
      "|MINISTERE DE L'ED...|Congo, Democratic...|              Africa|100000000|Active|\n",
      "|MINISTRY OF FINAN...|          Madagascar|              Africa| 85400000|Active|\n",
      "|SOCIALIST REPUBLI...|             Vietnam|East Asia and Pac...| 84600000|Active|\n",
      "| GOVERNMENT OF SUDAN|               Sudan|              Africa| 76500000|Active|\n",
      "|GHANA MINISTRY OF...|               Ghana|              Africa| 75500000|Active|\n",
      "|GOVERNMENT OF AFG...|         Afghanistan|          South Asia| 74730000|Active|\n",
      "|FONDS D'EQUIPMENT...|             Morocco|Middle East and N...| 70000000|Active|\n",
      "|REPUBLIC OF NICAR...|           Nicaragua|Latin America and...| 51900000|Active|\n",
      "|MINISTRY OF PLANN...|              Jordan|Middle East and N...| 50000000|Active|\n",
      "| GOVERNMENT OF NEPAL|               Nepal|          South Asia| 46500000|Active|\n",
      "|MINISTRY OF ECONO...|                Mali|              Africa| 41700000|Active|\n",
      "|PALESTINE LIBERAT...|  West Bank and Gaza|Middle East and N...| 40000000|Closed|\n",
      "| MINISTRY OF FINANCE|              Zambia|              Africa| 36000000|Active|\n",
      "|MINISTRY OF ENVIR...|          Bangladesh|          South Asia| 33800000|Active|\n",
      "|GOVERNMENT OF IND...|           Indonesia|East Asia and Pac...| 31700000|Active|\n",
      "| GOVERNMENT OF NEPAL|               Nepal|          South Asia| 31000000|Active|\n",
      "|PEOPLE'S REPUBLIC...|               China|East Asia and Pac...| 27280000|Active|\n",
      "|REPUBLIC OF KAZAK...|          Kazakhstan|Europe and Centra...| 21760000|Active|\n",
      "+--------------------+--------------------+--------------------+---------+------+\n",
      "only showing top 20 rows\n",
      "\n"
     ]
    }
   ],
   "source": [
    "data.select('borrower','countryshortname','regionname','grantamt','status').orderBy(desc('grantamt')).show()\n",
    "\n",
    "#region wise borrowers and their borrowed amounts"
   ]
  },
  {
   "cell_type": "code",
   "execution_count": 11,
   "metadata": {
    "collapsed": false,
    "deletable": true,
    "editable": true
   },
   "outputs": [
    {
     "name": "stdout",
     "output_type": "stream",
     "text": [
      "+--------------------+-----+\n",
      "|          regionname|count|\n",
      "+--------------------+-----+\n",
      "|          South Asia|   65|\n",
      "|Middle East and N...|   54|\n",
      "|              Africa|  152|\n",
      "|East Asia and Pac...|  100|\n",
      "|               Other|    2|\n",
      "|Europe and Centra...|   74|\n",
      "|Latin America and...|   53|\n",
      "+--------------------+-----+\n",
      "\n"
     ]
    }
   ],
   "source": [
    "data.select('borrower','countryshortname','regionname','grantamt','status').groupBy('regionname').count().show()\n",
    "\n",
    "#number of borrowers by region"
   ]
  },
  {
   "cell_type": "code",
   "execution_count": 12,
   "metadata": {
    "collapsed": false,
    "deletable": true,
    "editable": true
   },
   "outputs": [
    {
     "name": "stdout",
     "output_type": "stream",
     "text": [
      "+--------------------+------------------+\n",
      "|          regionname|     avg(grantamt)|\n",
      "+--------------------+------------------+\n",
      "|          South Asia| 6092461.538461538|\n",
      "|Middle East and N...| 5311296.296296297|\n",
      "|              Africa|4037039.4736842103|\n",
      "|East Asia and Pac...|         7000400.0|\n",
      "|               Other|         3060000.0|\n",
      "|Europe and Centra...|1695540.5405405406|\n",
      "|Latin America and...|1662641.5094339622|\n",
      "+--------------------+------------------+\n",
      "\n"
     ]
    }
   ],
   "source": [
    "data.select('borrower','countryshortname','regionname','grantamt','status').groupBy('regionname').avg('grantamt').show()\n",
    "\n",
    "#each region's avg grant amt"
   ]
  },
  {
   "cell_type": "code",
   "execution_count": 19,
   "metadata": {
    "collapsed": false,
    "deletable": true,
    "editable": true
   },
   "outputs": [],
   "source": [
    "bank_rdd = data.select('boardapprovaldate','borrower','project_name','closingdate','projectstatusdisplay','totalamt','url','countrycode','countryshortname','regionname','grantamt','status').rdd\n",
    "\n",
    "#creating a rdd from the dataframe"
   ]
  },
  {
   "cell_type": "code",
   "execution_count": 21,
   "metadata": {
    "collapsed": false,
    "deletable": true,
    "editable": true
   },
   "outputs": [
    {
     "data": {
      "text/plain": [
       "[Row(boardapprovaldate=u'2013-11-12T00:00:00Z', borrower=u'FEDERAL DEMOCRATIC REPUBLIC OF ETHIOPIA', project_name=u'Ethiopia General Education Quality Improvement Project II', closingdate=u'2018-07-07T00:00:00Z', projectstatusdisplay=u'Active', totalamt=130000000, url=u'http://www.worldbank.org/projects/P129828/ethiopia-general-education-quality-improvement-project-ii?lang=en', countrycode=u'ET', countryshortname=u'Ethiopia', regionname=u'Africa', grantamt=0, status=u'Active'),\n",
       " Row(boardapprovaldate=u'2013-02-28T00:00:00Z', borrower=u'FEDERAL DEMOCRATIC REP. OF ETHIOPIA', project_name=u'Ethiopia Health MDG Support Operation', closingdate=u'2018-06-30T00:00:00Z', projectstatusdisplay=u'Active', totalamt=100000000, url=u'http://www.worldbank.org/projects/P123531/ethiopia-health-mdg-support-operation?lang=en', countrycode=u'ET', countryshortname=u'Ethiopia', regionname=u'Africa', grantamt=0, status=u'Active'),\n",
       " Row(boardapprovaldate=u'2012-09-25T00:00:00Z', borrower=u'FEDERAL DEMOCRATIC REPUBLIC OF ETHIOPIA', project_name=u'Ethiopia-Transport Sector Project in Support of RSDP4', closingdate=u'2019-04-30T00:00:00Z', projectstatusdisplay=u'Active', totalamt=415000000, url=u'http://www.worldbank.org/projects/P117731/ethiopia-transport-sector-project-support-rsdp4?lang=en', countrycode=u'ET', countryshortname=u'Ethiopia', regionname=u'Africa', grantamt=0, status=u'Active'),\n",
       " Row(boardapprovaldate=u'2012-09-25T00:00:00Z', borrower=u'FED DEM REPUBLIC OF ETHIOPIA', project_name=u'Ethiopia Promoting Basic Services Program Phase III Project', closingdate=u'2018-01-07T00:00:00Z', projectstatusdisplay=u'Active', totalamt=600000000, url=u'http://www.worldbank.org/projects/P128891/ethiopia-protection-basic-services-program-phase-iii-project?lang=en', countrycode=u'ET', countryshortname=u'Ethiopia', regionname=u'Africa', grantamt=0, status=u'Active')]"
      ]
     },
     "execution_count": 21,
     "metadata": {},
     "output_type": "execute_result"
    }
   ],
   "source": [
    "bank_rdd.filter(lambda x: 'ET' in x[7]).collect()\n",
    "\n",
    "#filter all rows that corresponds to Ethiopia"
   ]
  },
  {
   "cell_type": "code",
   "execution_count": 75,
   "metadata": {
    "collapsed": false,
    "deletable": true,
    "editable": true
   },
   "outputs": [],
   "source": [
    "pairs = bank_rdd.map(lambda x: (x[8],x[10]))\n",
    "pairs1 = bank_rdd.map(lambda x: (x[0],x[10]))\n",
    "\n",
    "\n",
    "#creating pipelinedRDD transformations to select country, grant_amt and boardapprovaldata,grant_amts respectively"
   ]
  },
  {
   "cell_type": "code",
   "execution_count": 76,
   "metadata": {
    "collapsed": false,
    "deletable": true,
    "editable": true
   },
   "outputs": [],
   "source": [
    "import pandas as pd\n",
    "from operator import add\n",
    "\n",
    "\n",
    "df = pd.DataFrame(pairs.reduceByKey(add).collect())\n",
    "\n",
    "#collecting all the countries by reducing on the countryshortname key while adding their grant amounts\n",
    "\n",
    "df.columns = ['country','grant_amt']\n",
    "\n",
    "#give names to the columns"
   ]
  },
  {
   "cell_type": "code",
   "execution_count": 38,
   "metadata": {
    "collapsed": false,
    "deletable": true,
    "editable": true
   },
   "outputs": [],
   "source": [
    "sorted_data = df.sort_values('grant_amt',ascending=False)\n",
    "#sort the dataframe on grant_amt in descending order"
   ]
  },
  {
   "cell_type": "code",
   "execution_count": 78,
   "metadata": {
    "collapsed": false,
    "deletable": true,
    "editable": true
   },
   "outputs": [],
   "source": [
    "from bokeh.charts import Bar, show\n",
    "from bokeh.charts.attributes import ColorAttr, CatAttr\n",
    "from bokeh.models import NumeralTickFormatter\n",
    "from bokeh.io import output_notebook\n",
    "output_notebook()\n",
    "p = Bar(sorted_data.head(10), values='grant_amt', title=\"Top 10 Countries funded by the World Bank \", label=CatAttr(columns=['country'], sort=False),legend=False)\n",
    "p.yaxis.formatter=NumeralTickFormatter(format=\"($ 0 a)\")\n",
    "show(p, notebook_handle=True)\n",
    "\n",
    "#creating a bokeh visualization to show the top 10 grant receiving countries "
   ]
  },
  {
   "cell_type": "code",
   "execution_count": 71,
   "metadata": {
    "collapsed": false,
    "deletable": true,
    "editable": true
   },
   "outputs": [],
   "source": [
    "from bokeh.charts import TimeSeries\n",
    "from bokeh.models import DatetimeTickFormatter\n",
    "output_notebook()\n",
    "\n",
    "\n",
    "timedata = pd.DataFrame(pairs1.reduceByKey(add).collect())\n",
    "\n",
    "timedata.columns = ['boardapprovaldate','grant_amt']\n",
    "\n",
    "timedata['boardapprovaldate'] = pd.to_datetime(timedata['boardapprovaldate'], format=('%Y-%m-%dT%H:%M:%SZ'))\n",
    "\n",
    "p = TimeSeries(timedata, x='boardapprovaldate',y='grant_amt')\n",
    "\n",
    "p.yaxis.formatter=NumeralTickFormatter(format=\"($ 0 a)\")\n",
    "p.xaxis.formatter=DatetimeTickFormatter(\n",
    "        days=[\"%d %B %Y\"],\n",
    "        months=[\"%d %B %Y\"],\n",
    "        years=[\"%d %B %Y\"])\n",
    "\n",
    "\n",
    "show(p)\n",
    "\n",
    "show(pp)\n",
    "#creating a chart "
   ]
  }
 ],
 "metadata": {
  "kernelspec": {
   "display_name": "Python 2",
   "language": "python",
   "name": "python2"
  },
  "language_info": {
   "codemirror_mode": {
    "name": "ipython",
    "version": 2
   },
   "file_extension": ".py",
   "mimetype": "text/x-python",
   "name": "python",
   "nbconvert_exporter": "python",
   "pygments_lexer": "ipython2",
   "version": "2.7.13"
  }
 },
 "nbformat": 4,
 "nbformat_minor": 2
}
